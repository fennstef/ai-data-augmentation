{
 "cells": [
  {
   "cell_type": "code",
   "execution_count": 1,
   "metadata": {},
   "outputs": [
    {
     "name": "stderr",
     "output_type": "stream",
     "text": [
      "Using TensorFlow backend.\n"
     ]
    }
   ],
   "source": [
    "import collections, numpy\n",
    "from gensim.models import Word2Vec\n",
    "from sklearn.model_selection import train_test_split\n",
    "from keras.models import Sequential\n",
    "from keras.layers import Dense, Activation\n",
    "from numpy.random import seed\n",
    "from tensorflow import set_random_seed\n",
    "import keras.backend as backend\n",
    "import matplotlib.pyplot as plt\n",
    "import pandas as pd\n"
   ]
  },
  {
   "cell_type": "code",
   "execution_count": 2,
   "metadata": {},
   "outputs": [
    {
     "name": "stdout",
     "output_type": "stream",
     "text": [
      "[['hated', 'stupid'], ['hated', 'boring'], ['awesome', 'inspiring'], ['hated', 'disaster'], ['hated', 'idiotic'], ['stupid', 'hated'], ['stupid', 'boring'], ['inspiring', 'ourselves', 'awesome'], ['inspiring', 'brilliant'], ['hated', 'rubbish'], ['inspiring', 'amazing'], ['stupid', 'disaster'], ['stupid', 'rubbish'], ['stupid', 'idiotic'], ['awesome', 'great'], ['boring', 'must', 'hated'], ['boring', 'stupid'], ['boring', 'disaster'], ['both', 'boring', 'rubbish'], ['boring', 'idiotic'], ['great', 'to', 'amazing'], ['disaster', 'more', 'than', 'hated'], ['between', 'disaster', 'stupid'], ['disaster', 'boring'], ['awesome', 'brilliant'], ['too', 'awesome', 'amazing'], ['brilliant', 'loved'], ['disaster', 'only', 'idiotic'], ['rubbish', 'hated', 'him'], ['rubbish', 'why', 'stupid'], ['rubbish', 'too', 'boring'], ['rubbish', 'disaster'], ['rubbish', 'very', 'idiotic'], ['idiotic', 'hated'], ['idiotic', 'stupid'], ['idiotic', 'boring'], ['idiotic', 'disaster'], ['idiotic', 'rubbish'], ['loved', 'awesome'], ['stupid', 'hated'], ['brilliant', 'loved'], ['loved', 'amazing'], ['great', 'loved'], ['great', 'inspiring'], ['great', 'awesome'], ['great', 'brilliant'], ['great', 'amazing'], ['inspiring', 'loved'], ['inspiring', 'great'], ['awesome', 'loved'], ['brilliant', 'great'], ['brilliant', 'inspiring'], ['brilliant', 'between', 'them', 'awesome'], ['brilliant', 'above', 'amazing'], ['just', 'amazing', 'loved'], ['disaster', 'o', 'rubbish'], ['above', 'amazing', 'beyond', 'inspiring'], ['amazing', 'awesome'], ['amazing', 'brilliant']]\n",
      "59\n"
     ]
    }
   ],
   "source": [
    "#Rohdaten\n",
    "sentencesRaw = \"\"\"hated the movie it was stupid;\\ni hated it so boring;\\nawesome the movie was inspiring;\\nhated it what a disaster;\\nwe hated the movie they were idiotic;\\nhe was stupid, hated her;\\nstupid movie is boring;\\ninspiring ourselves, awesome;\\ninspiring me, brilliant;\\nwe hated it they were rubbish;\\nany inspiring movie is amazing;\\nit was stupid what a disaster;\\nits stupid, rubbish;\\nstupid, idiotic!;\\nawesome great movie;\\nboring, must be hated;\\nhe was boring the movie was stupid;\\nboring movie was a disaster;\\nboth boring and rubbish;\\nso boring and idiotic;\\ngreat to amazing;\\ndisaster, more than hated;\\nbetween disaster and stupid;\\ndisaster, so boring;\\nawesome movie, brilliant;\\ntoo awesome she was amazing;\\nhe was brilliant loved it;\\ndisaster, only idiotic;\\nrubbish movie hated him;\\nit was rubbish, why so stupid?;\\nrubbish, too boring;\\nrubbish, disaster!;\\nrubbish, very idiotic;\\nidiotic movie hated it;\\nshe was idiotic, so stupid;\\nidiotic movie, it was boring;\\nit was idiotic, movie was a disaster;\\nidiotic and rubbish;\\nI loved it, it was awesome;\\nhe was stupid, hated her;\\nbrilliant, loved it;\\nloved the movie amazing;\\nit was great loved the movie;\\nmovie was great, inspiring;\\ngreat movie, awesome;\\nthey were great, brilliant;\\ngreat amazing!;\\nThey were inspiring loved it;\\ninspiring movie great;\\nawesome loved it;\\nthey were brilliant great movie;\\nshe was brilliant the movie was inspiring;\\nhe was brilliant between them they were awesome;\\nbrilliant, above amazing;\\njust amazing loved it;\\ndisaster, o what rubbish;\\nabove amazing beyond inspiring;\\nso amazing movie was awesome;\\namazing brilliant movie;\"\"\"\n",
    "neg_sent=\"\"\"hated the movie it was stupid;\\ni hated it so boring;\\nhated it what a disaster;\\nwe hated it they were rubbish;\\nwe hated the movie they were idiotic;\\nhe was stupid, hated her;\\nstupid movie is boring;\\nit was stupid what a disaster;\\nits stupid, rubbish;\\nstupid, idiotic!;\"\"\".replace(';', '').replace('!', '').replace('?', '').replace(',', '').lower().split('\\n')\n",
    "pos_sent=\"\"\"I loved it, it was awesome;\\nbrilliant, loved it;\\nloved the movie amazing;\\nit was great loved the movie;\\nmovie was great, inspiring;\\ngreat movie, awesome;\\nthey were great, brilliant;\\ngreat amazing!;\\nThey were inspiring loved it;\\ninspiring movie great;\"\"\".replace(';', '').replace('!', '').replace('?', '').replace(',', '').lower().split('\\n')\n",
    "stoplist = set(['it', 'movie', 'the', 'was', 'were', 'so', 'a', 'i', 'he', 'her', 'me', 'any', 'its', 'be', 'they', 'and', 'what', 'she', 'we', 'is'])\n",
    "\n",
    "# Konstanten\n",
    "embedding_size = 2\n",
    "\n",
    "# Datenaufbereitung\n",
    "texts = [[word for word in sentence.replace(';', '').replace('!', '').replace('?', '').replace(',', '').lower().split() if word not in stoplist] for sentence in sentencesRaw.split('\\n')]\n",
    "print(texts)\n",
    "print(len(texts))"
   ]
  },
  {
   "cell_type": "code",
   "execution_count": 3,
   "metadata": {},
   "outputs": [
    {
     "name": "stdout",
     "output_type": "stream",
     "text": [
      "Word2Vec(vocab=15, size=2, alpha=0.5)\n",
      "hated\t[-1.4740971  0.7597204]\n",
      "stupid\t[-1.5253797   0.84655076]\n",
      "boring\t[-1.6602318  0.820628 ]\n",
      "awesome\t[0.594963  1.3379152]\n",
      "inspiring\t[0.78903633 1.4693881 ]\n",
      "disaster\t[-1.6273603   0.99177057]\n",
      "idiotic\t[-2.06333    0.9522083]\n",
      "brilliant\t[0.69224566 1.4268148 ]\n",
      "rubbish\t[-1.4849261   0.87794423]\n",
      "amazing\t[0.67060274 1.5180753 ]\n",
      "great\t[0.93140876 1.5952934 ]\n",
      "between\t[-0.20149328  0.7286134 ]\n",
      "too\t[-0.22713093  0.66052616]\n",
      "loved\t[0.72440326 1.3828391 ]\n",
      "above\t[1.3822408 2.180158 ]\n",
      "\n",
      "Filtered sentences only keywords 20\n",
      "[['loved' 'awesome' '1' '0']\n",
      " ['brilliant' 'loved' '1' '0']\n",
      " ['loved' 'amazing' '1' '0']\n",
      " ['great' 'loved' '1' '0']\n",
      " ['great' 'inspiring' '1' '0']\n",
      " ['great' 'awesome' '1' '0']\n",
      " ['great' 'brilliant' '1' '0']\n",
      " ['great' 'amazing' '1' '0']\n",
      " ['inspiring' 'loved' '1' '0']\n",
      " ['inspiring' 'great' '1' '0']\n",
      " ['hated' 'stupid' '0' '1']\n",
      " ['hated' 'boring' '0' '1']\n",
      " ['hated' 'disaster' '0' '1']\n",
      " ['hated' 'rubbish' '0' '1']\n",
      " ['hated' 'idiotic' '0' '1']\n",
      " ['stupid' 'hated' '0' '1']\n",
      " ['stupid' 'boring' '0' '1']\n",
      " ['stupid' 'disaster' '0' '1']\n",
      " ['stupid' 'rubbish' '0' '1']\n",
      " ['stupid' 'idiotic' '0' '1']]\n",
      "y_sentence (20, 2)\n",
      "x_filteredText (20, 2)\n"
     ]
    }
   ],
   "source": [
    "# Embeddening mit Word2Vec\n",
    "\n",
    "def hash(astring):\n",
    "   return 42\n",
    "model = Word2Vec(texts, size=embedding_size, window=15, min_count=2, iter=1000, sg=1, alpha=0.5, seed=42, hashfxn=hash)\n",
    "print(model)\n",
    "wv = model.wv\n",
    "for key in wv.vocab:\n",
    "    print(key + \"\\t\"+ str(wv[key]))\n",
    "    \n",
    "x_filteredText = [] \n",
    "y_sent = numpy.zeros((len(pos_sent + neg_sent), 2), dtype=numpy.int)\n",
    "for i, sent in enumerate(pos_sent):\n",
    "  x_filteredText.append([word for word in sent.replace(';', '').replace('!', '').replace('?', '').replace(',', '').split() if word in wv.vocab])\n",
    "  y_sent[i, 0] = 1\n",
    "    \n",
    "for i, sent in enumerate(neg_sent):\n",
    "  x_filteredText.append([word for word in sent.replace(';', '').replace('!', '').replace('?', '').replace(',', '').split() if word in wv.vocab])\n",
    "  y_sent[len(pos_sent) + i, 1] = 1\n",
    "    \n",
    "x_filteredText = numpy.array(x_filteredText)\n",
    "\n",
    "print(\"\\nFiltered sentences only keywords \"+ str(len(x_filteredText)))\n",
    "print(numpy.hstack((x_filteredText,y_sent)))\n",
    "\n",
    "print(\"y_sentence \" + str(y_sent.shape))\n",
    "print(\"x_filteredText \" + str(x_filteredText.shape))\n",
    "\n",
    "    \n",
    "x_train_sent, x_test_sent, y_train, y_test = train_test_split(x_filteredText, y_sent, test_size=0.90, random_state=42)\n"
   ]
  },
  {
   "cell_type": "code",
   "execution_count": 4,
   "metadata": {},
   "outputs": [
    {
     "name": "stderr",
     "output_type": "stream",
     "text": [
      "/opt/conda/lib/python3.6/site-packages/ipykernel_launcher.py:6: DeprecationWarning: Call to deprecated `__getitem__` (Method will be removed in 4.0.0, use self.wv.__getitem__() instead).\n",
      "  \n"
     ]
    },
    {
     "data": {
      "text/plain": [
       "<matplotlib.collections.PathCollection at 0x7f074005f4e0>"
      ]
     },
     "execution_count": 4,
     "metadata": {},
     "output_type": "execute_result"
    },
    {
     "data": {
      "image/png": "[encoded data removed]",
      "text/plain": [
       "<Figure size 1440x720 with 1 Axes>"
      ]
     },
     "metadata": {
      "needs_background": "light"
     },
     "output_type": "display_data"
    }
   ],
   "source": [
    "plt.rcParams.update({'font.size': 22})\n",
    "fig = plt.figure(figsize=(20, 10))\n",
    "ax = fig.add_subplot(1, 1, 1)\n",
    "\n",
    "vocab = list(model.wv.vocab)\n",
    "X = model[vocab]\n",
    "\n",
    "df = pd.DataFrame(X, vocab, ['x', 'y'])\n",
    "for word, pos in df.iterrows(): \n",
    "    plt.annotate(word, pos)\n",
    "\n",
    "ax.scatter(df['x'], df['y'])"
   ]
  },
  {
   "cell_type": "code",
   "execution_count": 5,
   "metadata": {},
   "outputs": [
    {
     "name": "stdout",
     "output_type": "stream",
     "text": [
      "['loved' 'awesome']\n",
      "\n",
      "x_train (2, 2)\n",
      "x_test (18, 2)\n",
      "[[0 1]\n",
      " [1 0]]\n",
      "[[-1.7687135  0.8559643]\n",
      " [ 0.8118272  1.511054 ]]\n"
     ]
    }
   ],
   "source": [
    "print(x_test_sent[0])\n",
    "print()\n",
    "\n",
    "x_train = numpy.array([numpy.mean([wv[word] for word in sent if word in wv.vocab], axis=0) for sent in x_train_sent])\n",
    "x_test = numpy.array([numpy.mean([wv[word] for word in sent if word in wv.vocab], axis=0)for sent in x_test_sent])\n",
    "\n",
    "#x_train = numpy.array([[wv[word] for word in [sent[0]] if word in wv.vocab] for sent in x_train_sent]).reshape(len(x_train_sent),4)\n",
    "#x_test = numpy.array([[wv[word] for word in [sent[0]] if word in wv.vocab] for sent in x_test_sent]).reshape(len(x_test_sent),4)\n",
    "\n",
    "print(\"x_train \" + str(x_train.shape))\n",
    "print(\"x_test \" + str(x_test.shape))\n",
    "print(y_train)\n",
    "print(x_train)\n",
    "#print(x_train)"
   ]
  },
  {
   "cell_type": "code",
   "execution_count": 6,
   "metadata": {},
   "outputs": [
    {
     "name": "stdout",
     "output_type": "stream",
     "text": [
      "Train on 2 samples, validate on 18 samples\n",
      "Epoch 1/20\n",
      "2/2 [==============================] - 1s 297ms/step - loss: 0.5385 - acc: 1.0000 - val_loss: 0.5339 - val_acc: 1.0000\n",
      "Epoch 2/20\n",
      "2/2 [==============================] - 0s 6ms/step - loss: 0.5258 - acc: 1.0000 - val_loss: 0.5221 - val_acc: 1.0000\n",
      "Epoch 3/20\n",
      "2/2 [==============================] - 0s 8ms/step - loss: 0.5132 - acc: 1.0000 - val_loss: 0.5104 - val_acc: 1.0000\n",
      "Epoch 4/20\n",
      "2/2 [==============================] - 0s 9ms/step - loss: 0.5009 - acc: 1.0000 - val_loss: 0.4989 - val_acc: 1.0000\n",
      "Epoch 5/20\n",
      "2/2 [==============================] - 0s 9ms/step - loss: 0.4888 - acc: 1.0000 - val_loss: 0.4877 - val_acc: 1.0000\n",
      "Epoch 6/20\n",
      "2/2 [==============================] - 0s 8ms/step - loss: 0.4769 - acc: 1.0000 - val_loss: 0.4766 - val_acc: 1.0000\n",
      "Epoch 7/20\n",
      "2/2 [==============================] - 0s 10ms/step - loss: 0.4653 - acc: 1.0000 - val_loss: 0.4658 - val_acc: 1.0000\n",
      "Epoch 8/20\n",
      "2/2 [==============================] - 0s 11ms/step - loss: 0.4539 - acc: 1.0000 - val_loss: 0.4552 - val_acc: 1.0000\n",
      "Epoch 9/20\n",
      "2/2 [==============================] - 0s 9ms/step - loss: 0.4427 - acc: 1.0000 - val_loss: 0.4448 - val_acc: 1.0000\n",
      "Epoch 10/20\n",
      "2/2 [==============================] - 0s 12ms/step - loss: 0.4317 - acc: 1.0000 - val_loss: 0.4346 - val_acc: 1.0000\n",
      "Epoch 11/20\n",
      "2/2 [==============================] - 0s 8ms/step - loss: 0.4210 - acc: 1.0000 - val_loss: 0.4246 - val_acc: 1.0000\n",
      "Epoch 12/20\n",
      "2/2 [==============================] - 0s 11ms/step - loss: 0.4105 - acc: 1.0000 - val_loss: 0.4148 - val_acc: 1.0000\n",
      "Epoch 13/20\n",
      "2/2 [==============================] - 0s 15ms/step - loss: 0.4003 - acc: 1.0000 - val_loss: 0.4052 - val_acc: 1.0000\n",
      "Epoch 14/20\n",
      "2/2 [==============================] - 0s 23ms/step - loss: 0.3903 - acc: 1.0000 - val_loss: 0.3958 - val_acc: 1.0000\n",
      "Epoch 15/20\n",
      "2/2 [==============================] - 0s 17ms/step - loss: 0.3805 - acc: 1.0000 - val_loss: 0.3866 - val_acc: 1.0000\n",
      "Epoch 16/20\n",
      "2/2 [==============================] - 0s 9ms/step - loss: 0.3710 - acc: 1.0000 - val_loss: 0.3776 - val_acc: 1.0000\n",
      "Epoch 17/20\n",
      "2/2 [==============================] - 0s 14ms/step - loss: 0.3617 - acc: 1.0000 - val_loss: 0.3688 - val_acc: 1.0000\n",
      "Epoch 18/20\n",
      "2/2 [==============================] - 0s 13ms/step - loss: 0.3525 - acc: 1.0000 - val_loss: 0.3602 - val_acc: 1.0000\n",
      "Epoch 19/20\n",
      "2/2 [==============================] - 0s 10ms/step - loss: 0.3437 - acc: 1.0000 - val_loss: 0.3518 - val_acc: 1.0000\n",
      "Epoch 20/20\n",
      "2/2 [==============================] - 0s 16ms/step - loss: 0.3350 - acc: 1.0000 - val_loss: 0.3436 - val_acc: 1.0000\n"
     ]
    },
    {
     "data": {
      "text/plain": [
       "<keras.callbacks.History at 0x7f07410c3ac8>"
      ]
     },
     "execution_count": 6,
     "metadata": {},
     "output_type": "execute_result"
    }
   ],
   "source": [
    "# Make training repeatable\n",
    "seed(15)\n",
    "set_random_seed(32)\n",
    "\n",
    "# Train and validate model\n",
    "backend.clear_session()\n",
    "model = Sequential([\n",
    "    Dense(60, input_shape=(embedding_size,)),\n",
    "    Activation('relu'),\n",
    "    Dense(2),\n",
    "    Activation('softmax'),\n",
    "])\n",
    "\n",
    "\n",
    "model.compile(optimizer='adam', loss='binary_crossentropy', metrics=['accuracy'])\n",
    "#print(model.summary())\n",
    "model.fit(x_train, y_train, epochs=20, batch_size=2, validation_data=(x_test, y_test))"
   ]
  },
  {
   "cell_type": "code",
   "execution_count": 7,
   "metadata": {},
   "outputs": [
    {
     "name": "stdout",
     "output_type": "stream",
     "text": [
      "[[1. 0. 0. 0. 0. 1. 0. 0. 0. 0. 0. 0. 0. 0. 0. 0. 1.]\n",
      " [0. 0. 0. 0. 0. 0. 1. 0. 0. 0. 1. 0. 0. 0. 0. 1. 0.]]\n",
      "x_train2 (2, 15)\n",
      "x_test2 (18, 15)\n",
      "y_test (18, 2)\n",
      "Train on 2 samples, validate on 18 samples\n",
      "Epoch 1/50\n",
      "2/2 [==============================] - 1s 286ms/step - loss: 0.8410 - acc: 0.0000e+00 - val_loss: 0.7347 - val_acc: 0.2778\n",
      "Epoch 2/50\n",
      "2/2 [==============================] - 0s 8ms/step - loss: 0.8291 - acc: 0.0000e+00 - val_loss: 0.7317 - val_acc: 0.3333\n",
      "Epoch 3/50\n",
      "2/2 [==============================] - 0s 10ms/step - loss: 0.8173 - acc: 0.0000e+00 - val_loss: 0.7286 - val_acc: 0.3333\n",
      "Epoch 4/50\n",
      "2/2 [==============================] - 0s 9ms/step - loss: 0.8055 - acc: 0.0000e+00 - val_loss: 0.7256 - val_acc: 0.3333\n",
      "Epoch 5/50\n",
      "2/2 [==============================] - 0s 10ms/step - loss: 0.7940 - acc: 0.0000e+00 - val_loss: 0.7226 - val_acc: 0.3333\n",
      "Epoch 6/50\n",
      "2/2 [==============================] - 0s 10ms/step - loss: 0.7826 - acc: 0.0000e+00 - val_loss: 0.7197 - val_acc: 0.3333\n",
      "Epoch 7/50\n",
      "2/2 [==============================] - 0s 10ms/step - loss: 0.7715 - acc: 0.0000e+00 - val_loss: 0.7168 - val_acc: 0.3333\n",
      "Epoch 8/50\n",
      "2/2 [==============================] - 0s 12ms/step - loss: 0.7604 - acc: 0.0000e+00 - val_loss: 0.7140 - val_acc: 0.3333\n",
      "Epoch 9/50\n",
      "2/2 [==============================] - 0s 10ms/step - loss: 0.7494 - acc: 0.0000e+00 - val_loss: 0.7113 - val_acc: 0.3333\n",
      "Epoch 10/50\n",
      "2/2 [==============================] - 0s 11ms/step - loss: 0.7386 - acc: 0.5000 - val_loss: 0.7086 - val_acc: 0.3333\n",
      "Epoch 11/50\n",
      "2/2 [==============================] - 0s 13ms/step - loss: 0.7279 - acc: 0.5000 - val_loss: 0.7059 - val_acc: 0.3333\n",
      "Epoch 12/50\n",
      "2/2 [==============================] - 0s 15ms/step - loss: 0.7173 - acc: 0.5000 - val_loss: 0.7033 - val_acc: 0.3333\n",
      "Epoch 13/50\n",
      "2/2 [==============================] - 0s 9ms/step - loss: 0.7071 - acc: 0.5000 - val_loss: 0.7007 - val_acc: 0.3333\n",
      "Epoch 14/50\n",
      "2/2 [==============================] - 0s 18ms/step - loss: 0.6969 - acc: 0.5000 - val_loss: 0.6981 - val_acc: 0.3333\n",
      "Epoch 15/50\n",
      "2/2 [==============================] - 0s 14ms/step - loss: 0.6869 - acc: 0.5000 - val_loss: 0.6956 - val_acc: 0.3333\n",
      "Epoch 16/50\n",
      "2/2 [==============================] - 0s 17ms/step - loss: 0.6770 - acc: 0.5000 - val_loss: 0.6931 - val_acc: 0.3333\n",
      "Epoch 17/50\n",
      "2/2 [==============================] - 0s 14ms/step - loss: 0.6672 - acc: 0.5000 - val_loss: 0.6906 - val_acc: 0.5000\n",
      "Epoch 18/50\n",
      "2/2 [==============================] - 0s 17ms/step - loss: 0.6574 - acc: 1.0000 - val_loss: 0.6881 - val_acc: 0.5556\n",
      "Epoch 19/50\n",
      "2/2 [==============================] - 0s 16ms/step - loss: 0.6478 - acc: 1.0000 - val_loss: 0.6857 - val_acc: 0.5556\n",
      "Epoch 20/50\n",
      "2/2 [==============================] - 0s 11ms/step - loss: 0.6382 - acc: 1.0000 - val_loss: 0.6833 - val_acc: 0.5556\n",
      "Epoch 21/50\n",
      "2/2 [==============================] - 0s 13ms/step - loss: 0.6288 - acc: 1.0000 - val_loss: 0.6809 - val_acc: 0.6111\n",
      "Epoch 22/50\n",
      "2/2 [==============================] - 0s 15ms/step - loss: 0.6194 - acc: 1.0000 - val_loss: 0.6785 - val_acc: 0.6111\n",
      "Epoch 23/50\n",
      "2/2 [==============================] - 0s 16ms/step - loss: 0.6102 - acc: 1.0000 - val_loss: 0.6761 - val_acc: 0.6111\n",
      "Epoch 24/50\n",
      "2/2 [==============================] - 0s 15ms/step - loss: 0.6010 - acc: 1.0000 - val_loss: 0.6738 - val_acc: 0.6111\n",
      "Epoch 25/50\n",
      "2/2 [==============================] - 0s 12ms/step - loss: 0.5920 - acc: 1.0000 - val_loss: 0.6714 - val_acc: 0.6111\n",
      "Epoch 26/50\n",
      "2/2 [==============================] - 0s 11ms/step - loss: 0.5829 - acc: 1.0000 - val_loss: 0.6690 - val_acc: 0.6111\n",
      "Epoch 27/50\n",
      "2/2 [==============================] - 0s 14ms/step - loss: 0.5739 - acc: 1.0000 - val_loss: 0.6667 - val_acc: 0.6111\n",
      "Epoch 28/50\n",
      "2/2 [==============================] - 0s 11ms/step - loss: 0.5650 - acc: 1.0000 - val_loss: 0.6643 - val_acc: 0.6111\n",
      "Epoch 29/50\n",
      "2/2 [==============================] - 0s 11ms/step - loss: 0.5562 - acc: 1.0000 - val_loss: 0.6619 - val_acc: 0.6111\n",
      "Epoch 30/50\n",
      "2/2 [==============================] - 0s 12ms/step - loss: 0.5475 - acc: 1.0000 - val_loss: 0.6596 - val_acc: 0.6111\n",
      "Epoch 31/50\n",
      "2/2 [==============================] - 0s 11ms/step - loss: 0.5388 - acc: 1.0000 - val_loss: 0.6572 - val_acc: 0.6111\n",
      "Epoch 32/50\n",
      "2/2 [==============================] - 0s 17ms/step - loss: 0.5302 - acc: 1.0000 - val_loss: 0.6549 - val_acc: 0.6111\n",
      "Epoch 33/50\n",
      "2/2 [==============================] - 0s 14ms/step - loss: 0.5216 - acc: 1.0000 - val_loss: 0.6525 - val_acc: 0.6111\n",
      "Epoch 34/50\n",
      "2/2 [==============================] - 0s 13ms/step - loss: 0.5132 - acc: 1.0000 - val_loss: 0.6502 - val_acc: 0.6111\n",
      "Epoch 35/50\n",
      "2/2 [==============================] - 0s 18ms/step - loss: 0.5048 - acc: 1.0000 - val_loss: 0.6478 - val_acc: 0.6111\n",
      "Epoch 36/50\n",
      "2/2 [==============================] - 0s 22ms/step - loss: 0.4964 - acc: 1.0000 - val_loss: 0.6455 - val_acc: 0.6111\n",
      "Epoch 37/50\n",
      "2/2 [==============================] - 0s 10ms/step - loss: 0.4882 - acc: 1.0000 - val_loss: 0.6431 - val_acc: 0.7222\n",
      "Epoch 38/50\n",
      "2/2 [==============================] - 0s 10ms/step - loss: 0.4800 - acc: 1.0000 - val_loss: 0.6408 - val_acc: 0.7222\n",
      "Epoch 39/50\n",
      "2/2 [==============================] - 0s 12ms/step - loss: 0.4720 - acc: 1.0000 - val_loss: 0.6384 - val_acc: 0.7778\n",
      "Epoch 40/50\n",
      "2/2 [==============================] - 0s 14ms/step - loss: 0.4640 - acc: 1.0000 - val_loss: 0.6360 - val_acc: 0.7778\n",
      "Epoch 41/50\n",
      "2/2 [==============================] - 0s 13ms/step - loss: 0.4562 - acc: 1.0000 - val_loss: 0.6336 - val_acc: 0.7778\n",
      "Epoch 42/50\n",
      "2/2 [==============================] - 0s 10ms/step - loss: 0.4484 - acc: 1.0000 - val_loss: 0.6312 - val_acc: 0.7778\n",
      "Epoch 43/50\n",
      "2/2 [==============================] - 0s 11ms/step - loss: 0.4408 - acc: 1.0000 - val_loss: 0.6288 - val_acc: 0.8333\n",
      "Epoch 44/50\n",
      "2/2 [==============================] - 0s 11ms/step - loss: 0.4333 - acc: 1.0000 - val_loss: 0.6264 - val_acc: 0.8333\n",
      "Epoch 45/50\n",
      "2/2 [==============================] - 0s 24ms/step - loss: 0.4258 - acc: 1.0000 - val_loss: 0.6240 - val_acc: 0.8333\n",
      "Epoch 46/50\n",
      "2/2 [==============================] - 0s 7ms/step - loss: 0.4184 - acc: 1.0000 - val_loss: 0.6216 - val_acc: 0.8333\n",
      "Epoch 47/50\n",
      "2/2 [==============================] - 0s 9ms/step - loss: 0.4111 - acc: 1.0000 - val_loss: 0.6192 - val_acc: 0.8333\n",
      "Epoch 48/50\n",
      "2/2 [==============================] - 0s 14ms/step - loss: 0.4038 - acc: 1.0000 - val_loss: 0.6168 - val_acc: 0.8333\n",
      "Epoch 49/50\n",
      "2/2 [==============================] - 0s 17ms/step - loss: 0.3966 - acc: 1.0000 - val_loss: 0.6144 - val_acc: 0.8333\n",
      "Epoch 50/50\n",
      "2/2 [==============================] - 0s 14ms/step - loss: 0.3895 - acc: 1.0000 - val_loss: 0.6120 - val_acc: 0.8889\n"
     ]
    },
    {
     "data": {
      "text/plain": [
       "<keras.callbacks.History at 0x7f071f7ddcc0>"
      ]
     },
     "execution_count": 7,
     "metadata": {},
     "output_type": "execute_result"
    }
   ],
   "source": [
    "# Train without Word2Vec (using one-hot-embedding)\n",
    "x_train2 = numpy.zeros(shape=(len(x_train_sent), len(wv.vocab)), dtype='float32')\n",
    "for i, text in enumerate(x_train_sent):\n",
    "    for word in text:\n",
    "        if word in wv.vocab:\n",
    "            j = wv.vocab[word].index\n",
    "            x_train2[i, j] = 1.0\n",
    "            \n",
    "x_test2 = numpy.zeros(shape=(len(x_test_sent), len(wv.vocab)), dtype='float32')\n",
    "for i, text in enumerate(x_test_sent):\n",
    "    for word in text:\n",
    "        if word in wv.vocab:\n",
    "            j = wv.vocab[word].index\n",
    "            x_test2[i, j] = 1.0\n",
    "            \n",
    "print(numpy.hstack((x_train2, y_train)))\n",
    "\n",
    "# Make training repeatable\n",
    "seed(15)\n",
    "set_random_seed(32)\n",
    "\n",
    "# Train and validate model\n",
    "backend.clear_session()\n",
    "model2 = Sequential([\n",
    "    Dense(60, input_shape=(len(wv.vocab),)),\n",
    "    Activation('relu'),\n",
    "    Dense(2),\n",
    "    Activation('softmax'),\n",
    "])\n",
    "\n",
    "print(\"x_train2 \"+ str(x_train2.shape))\n",
    "print(\"x_test2 \"+ str(x_test2.shape))\n",
    "print(\"y_test \"+ str(y_test.shape))\n",
    "\n",
    "model2.compile(optimizer='adam', loss='binary_crossentropy', metrics=['accuracy'])\n",
    "#print(model2.summary())\n",
    "model2.fit(x_train2, y_train, epochs=50, batch_size=2, validation_data=(x_test2, y_test))"
   ]
  }
 ],
 "metadata": {
  "kernelspec": {
   "display_name": "Python 3",
   "language": "python",
   "name": "python3"
  },
  "language_info": {
   "codemirror_mode": {
    "name": "ipython",
    "version": 3
   },
   "file_extension": ".py",
   "mimetype": "text/x-python",
   "name": "python",
   "nbconvert_exporter": "python",
   "pygments_lexer": "ipython3",
   "version": "3.6.6"
  }
 },
 "nbformat": 4,
 "nbformat_minor": 2
}
